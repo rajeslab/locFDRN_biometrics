{
 "cells": [
  {
   "cell_type": "markdown",
   "id": "dc74909e-7f3a-42cc-ab87-db7015341e69",
   "metadata": {},
   "source": [
    "### Code for all tables and figures of GWAS analysis"
   ]
  },
  {
   "cell_type": "code",
   "execution_count": 7,
   "id": "a1f095e5-863a-4532-83b8-3076133d9782",
   "metadata": {},
   "outputs": [],
   "source": [
    "\n",
    "os.chdir(\"E:\\\\GWAS\\\\plink_win64_20231211 - Copy\") ## set directory where required files are saved\n",
    "matresult = [];\n",
    "alpha = 0.05\n",
    "zall = [];\n",
    "lcfdrscall = [];\n",
    "lcfdr0all = [];\n",
    "lcfdr1all = [];\n",
    "lcfdr2all = [];\n",
    "lcfdr3all = [];\n",
    "for chno in np.arange(1,23):\n",
    "    Z = np.array(pd.read_csv(f'zlcfdrsp_chr{chno}.csv',header=None));\n",
    "    result = np.array([np.size(np.where(statsmodels.stats.multitest.multipletests(2*(1-norm.cdf(abs(Z[:,0]))), \n",
    "                                                   alpha=(alpha/(1-0.)), method='fdr_bh', \n",
    "                                                         is_sorted=False, returnsorted=False)[0]==True)[0]),np.size(np.where(statsmodels.stats.multitest.multipletests(2*(1-norm.cdf(abs(Z[:,0]))), \n",
    "                                                   alpha=(alpha/(1-max(est_sun_cai_r(FloatVector(Z[:,0]),0.,1.)+0.))), method='fdr_bh', \n",
    "                                                         is_sorted=False, returnsorted=False)[0]==True)[0]),np.size(rejected(Z[:,1],alpha))\n",
    "                      ,np.size(rejected(Z[:,2],alpha)),np.size(rejected(Z[:,3],alpha)),np.size(rejected(Z[:,4],alpha)),np.size(rejected(Z[:,5],alpha))]);\n",
    "    matresult.append(result);\n",
    "    zall = np.append(zall,Z[:,0])\n",
    "    lcfdrscall = np.append(lcfdrscall,Z[:,1])\n",
    "    lcfdr0all = np.append(lcfdr0all,Z[:,2])\n",
    "    lcfdr1all = np.append(lcfdr1all,Z[:,3])\n",
    "    lcfdr2all = np.append(lcfdr2all,Z[:,4])\n",
    "    lcfdr3all = np.append(lcfdr3all,Z[:,5])"
   ]
  },
  {
   "cell_type": "code",
   "execution_count": 9,
   "id": "834c7393-bc01-4bae-8016-0a5870a8e0fb",
   "metadata": {},
   "outputs": [
    {
     "data": {
      "text/plain": [
       "486573"
      ]
     },
     "execution_count": 9,
     "metadata": {},
     "output_type": "execute_result"
    }
   ],
   "source": [
    "np.size(zall)"
   ]
  },
  {
   "cell_type": "markdown",
   "id": "4afd45ff-bca6-46ff-a761-1334a8c523da",
   "metadata": {},
   "source": [
    "### Chromose Wise Analysis Results"
   ]
  },
  {
   "cell_type": "code",
   "execution_count": 11,
   "id": "11184b9c-b805-4580-9ebd-94b4568001bc",
   "metadata": {},
   "outputs": [
    {
     "data": {
      "text/plain": [
       "[array([32, 32, 34, 49, 54, 65, 71]),\n",
       " array([24, 29, 28, 40, 43, 48, 56]),\n",
       " array([18, 23, 21, 35, 37, 43, 52]),\n",
       " array([24, 25, 29, 38, 45, 44, 42]),\n",
       " array([33, 36, 35, 50, 54, 58, 60]),\n",
       " array([21, 23, 27, 38, 47, 52, 52]),\n",
       " array([19, 22, 23, 30, 33, 38, 38]),\n",
       " array([12, 13, 16, 22, 28, 27, 32]),\n",
       " array([25, 27, 31, 37, 35, 38, 42]),\n",
       " array([ 6,  6,  7, 17, 22, 26, 31]),\n",
       " array([15, 17, 18, 28, 32, 33, 34]),\n",
       " array([23, 27, 27, 37, 42, 48, 56]),\n",
       " array([ 8, 14, 14, 14, 15, 16, 18]),\n",
       " array([ 3,  3,  5,  9, 12, 19, 21]),\n",
       " array([21, 21, 26, 36, 42, 47, 51]),\n",
       " array([ 3,  5,  8, 13, 13, 15, 14]),\n",
       " array([12, 15, 17, 25, 28, 34, 36]),\n",
       " array([16, 17, 21, 27, 26, 26, 26]),\n",
       " array([34, 35, 33, 42, 47, 50, 52]),\n",
       " array([11, 15, 15, 23, 28, 32, 31]),\n",
       " array([ 2,  2,  8,  6, 10, 11, 12]),\n",
       " array([0, 0, 0, 0, 0, 0, 0])]"
      ]
     },
     "execution_count": 11,
     "metadata": {},
     "output_type": "execute_result"
    }
   ],
   "source": [
    "matresult"
   ]
  },
  {
   "cell_type": "code",
   "execution_count": 13,
   "id": "51a208da-82b0-4c67-afc5-d92b5071788b",
   "metadata": {},
   "outputs": [],
   "source": [
    "# row_names = ['Row1', 'Row2', 'Row3']\n",
    "# column_names = [\"BH\", \"ABH\", \"Sun&Cai\",\"$\\hat{T}_0$\",\"$\\hat{T}_1$\",\"$\\hat{T}_2$\",\"$\\hat{T}_3$\"]\n",
    "row_names = [];\n",
    "for chn in np.arange(1,23):\n",
    "    row_names.append(f'chr{chn}')\n",
    "\n",
    "# Create the DataFrame (matrix)\n",
    "matrix = pd.DataFrame(matresult, index=row_names)"
   ]
  },
  {
   "cell_type": "code",
   "execution_count": 15,
   "id": "d1ec90c6-9539-4c9c-91b9-25119a081080",
   "metadata": {},
   "outputs": [
    {
     "data": {
      "text/html": [
       "<div>\n",
       "<style scoped>\n",
       "    .dataframe tbody tr th:only-of-type {\n",
       "        vertical-align: middle;\n",
       "    }\n",
       "\n",
       "    .dataframe tbody tr th {\n",
       "        vertical-align: top;\n",
       "    }\n",
       "\n",
       "    .dataframe thead th {\n",
       "        text-align: right;\n",
       "    }\n",
       "</style>\n",
       "<table border=\"1\" class=\"dataframe\">\n",
       "  <thead>\n",
       "    <tr style=\"text-align: right;\">\n",
       "      <th></th>\n",
       "      <th>0</th>\n",
       "      <th>1</th>\n",
       "      <th>2</th>\n",
       "      <th>3</th>\n",
       "      <th>4</th>\n",
       "      <th>5</th>\n",
       "      <th>6</th>\n",
       "    </tr>\n",
       "  </thead>\n",
       "  <tbody>\n",
       "    <tr>\n",
       "      <th>chr1</th>\n",
       "      <td>32</td>\n",
       "      <td>32</td>\n",
       "      <td>34</td>\n",
       "      <td>49</td>\n",
       "      <td>54</td>\n",
       "      <td>65</td>\n",
       "      <td>71</td>\n",
       "    </tr>\n",
       "    <tr>\n",
       "      <th>chr2</th>\n",
       "      <td>24</td>\n",
       "      <td>29</td>\n",
       "      <td>28</td>\n",
       "      <td>40</td>\n",
       "      <td>43</td>\n",
       "      <td>48</td>\n",
       "      <td>56</td>\n",
       "    </tr>\n",
       "    <tr>\n",
       "      <th>chr3</th>\n",
       "      <td>18</td>\n",
       "      <td>23</td>\n",
       "      <td>21</td>\n",
       "      <td>35</td>\n",
       "      <td>37</td>\n",
       "      <td>43</td>\n",
       "      <td>52</td>\n",
       "    </tr>\n",
       "    <tr>\n",
       "      <th>chr4</th>\n",
       "      <td>24</td>\n",
       "      <td>25</td>\n",
       "      <td>29</td>\n",
       "      <td>38</td>\n",
       "      <td>45</td>\n",
       "      <td>44</td>\n",
       "      <td>42</td>\n",
       "    </tr>\n",
       "    <tr>\n",
       "      <th>chr5</th>\n",
       "      <td>33</td>\n",
       "      <td>36</td>\n",
       "      <td>35</td>\n",
       "      <td>50</td>\n",
       "      <td>54</td>\n",
       "      <td>58</td>\n",
       "      <td>60</td>\n",
       "    </tr>\n",
       "    <tr>\n",
       "      <th>chr6</th>\n",
       "      <td>21</td>\n",
       "      <td>23</td>\n",
       "      <td>27</td>\n",
       "      <td>38</td>\n",
       "      <td>47</td>\n",
       "      <td>52</td>\n",
       "      <td>52</td>\n",
       "    </tr>\n",
       "    <tr>\n",
       "      <th>chr7</th>\n",
       "      <td>19</td>\n",
       "      <td>22</td>\n",
       "      <td>23</td>\n",
       "      <td>30</td>\n",
       "      <td>33</td>\n",
       "      <td>38</td>\n",
       "      <td>38</td>\n",
       "    </tr>\n",
       "    <tr>\n",
       "      <th>chr8</th>\n",
       "      <td>12</td>\n",
       "      <td>13</td>\n",
       "      <td>16</td>\n",
       "      <td>22</td>\n",
       "      <td>28</td>\n",
       "      <td>27</td>\n",
       "      <td>32</td>\n",
       "    </tr>\n",
       "    <tr>\n",
       "      <th>chr9</th>\n",
       "      <td>25</td>\n",
       "      <td>27</td>\n",
       "      <td>31</td>\n",
       "      <td>37</td>\n",
       "      <td>35</td>\n",
       "      <td>38</td>\n",
       "      <td>42</td>\n",
       "    </tr>\n",
       "    <tr>\n",
       "      <th>chr10</th>\n",
       "      <td>6</td>\n",
       "      <td>6</td>\n",
       "      <td>7</td>\n",
       "      <td>17</td>\n",
       "      <td>22</td>\n",
       "      <td>26</td>\n",
       "      <td>31</td>\n",
       "    </tr>\n",
       "    <tr>\n",
       "      <th>chr11</th>\n",
       "      <td>15</td>\n",
       "      <td>17</td>\n",
       "      <td>18</td>\n",
       "      <td>28</td>\n",
       "      <td>32</td>\n",
       "      <td>33</td>\n",
       "      <td>34</td>\n",
       "    </tr>\n",
       "    <tr>\n",
       "      <th>chr12</th>\n",
       "      <td>23</td>\n",
       "      <td>27</td>\n",
       "      <td>27</td>\n",
       "      <td>37</td>\n",
       "      <td>42</td>\n",
       "      <td>48</td>\n",
       "      <td>56</td>\n",
       "    </tr>\n",
       "    <tr>\n",
       "      <th>chr13</th>\n",
       "      <td>8</td>\n",
       "      <td>14</td>\n",
       "      <td>14</td>\n",
       "      <td>14</td>\n",
       "      <td>15</td>\n",
       "      <td>16</td>\n",
       "      <td>18</td>\n",
       "    </tr>\n",
       "    <tr>\n",
       "      <th>chr14</th>\n",
       "      <td>3</td>\n",
       "      <td>3</td>\n",
       "      <td>5</td>\n",
       "      <td>9</td>\n",
       "      <td>12</td>\n",
       "      <td>19</td>\n",
       "      <td>21</td>\n",
       "    </tr>\n",
       "    <tr>\n",
       "      <th>chr15</th>\n",
       "      <td>21</td>\n",
       "      <td>21</td>\n",
       "      <td>26</td>\n",
       "      <td>36</td>\n",
       "      <td>42</td>\n",
       "      <td>47</td>\n",
       "      <td>51</td>\n",
       "    </tr>\n",
       "    <tr>\n",
       "      <th>chr16</th>\n",
       "      <td>3</td>\n",
       "      <td>5</td>\n",
       "      <td>8</td>\n",
       "      <td>13</td>\n",
       "      <td>13</td>\n",
       "      <td>15</td>\n",
       "      <td>14</td>\n",
       "    </tr>\n",
       "    <tr>\n",
       "      <th>chr17</th>\n",
       "      <td>12</td>\n",
       "      <td>15</td>\n",
       "      <td>17</td>\n",
       "      <td>25</td>\n",
       "      <td>28</td>\n",
       "      <td>34</td>\n",
       "      <td>36</td>\n",
       "    </tr>\n",
       "    <tr>\n",
       "      <th>chr18</th>\n",
       "      <td>16</td>\n",
       "      <td>17</td>\n",
       "      <td>21</td>\n",
       "      <td>27</td>\n",
       "      <td>26</td>\n",
       "      <td>26</td>\n",
       "      <td>26</td>\n",
       "    </tr>\n",
       "    <tr>\n",
       "      <th>chr19</th>\n",
       "      <td>34</td>\n",
       "      <td>35</td>\n",
       "      <td>33</td>\n",
       "      <td>42</td>\n",
       "      <td>47</td>\n",
       "      <td>50</td>\n",
       "      <td>52</td>\n",
       "    </tr>\n",
       "    <tr>\n",
       "      <th>chr20</th>\n",
       "      <td>11</td>\n",
       "      <td>15</td>\n",
       "      <td>15</td>\n",
       "      <td>23</td>\n",
       "      <td>28</td>\n",
       "      <td>32</td>\n",
       "      <td>31</td>\n",
       "    </tr>\n",
       "    <tr>\n",
       "      <th>chr21</th>\n",
       "      <td>2</td>\n",
       "      <td>2</td>\n",
       "      <td>8</td>\n",
       "      <td>6</td>\n",
       "      <td>10</td>\n",
       "      <td>11</td>\n",
       "      <td>12</td>\n",
       "    </tr>\n",
       "    <tr>\n",
       "      <th>chr22</th>\n",
       "      <td>0</td>\n",
       "      <td>0</td>\n",
       "      <td>0</td>\n",
       "      <td>0</td>\n",
       "      <td>0</td>\n",
       "      <td>0</td>\n",
       "      <td>0</td>\n",
       "    </tr>\n",
       "  </tbody>\n",
       "</table>\n",
       "</div>"
      ],
      "text/plain": [
       "        0   1   2   3   4   5   6\n",
       "chr1   32  32  34  49  54  65  71\n",
       "chr2   24  29  28  40  43  48  56\n",
       "chr3   18  23  21  35  37  43  52\n",
       "chr4   24  25  29  38  45  44  42\n",
       "chr5   33  36  35  50  54  58  60\n",
       "chr6   21  23  27  38  47  52  52\n",
       "chr7   19  22  23  30  33  38  38\n",
       "chr8   12  13  16  22  28  27  32\n",
       "chr9   25  27  31  37  35  38  42\n",
       "chr10   6   6   7  17  22  26  31\n",
       "chr11  15  17  18  28  32  33  34\n",
       "chr12  23  27  27  37  42  48  56\n",
       "chr13   8  14  14  14  15  16  18\n",
       "chr14   3   3   5   9  12  19  21\n",
       "chr15  21  21  26  36  42  47  51\n",
       "chr16   3   5   8  13  13  15  14\n",
       "chr17  12  15  17  25  28  34  36\n",
       "chr18  16  17  21  27  26  26  26\n",
       "chr19  34  35  33  42  47  50  52\n",
       "chr20  11  15  15  23  28  32  31\n",
       "chr21   2   2   8   6  10  11  12\n",
       "chr22   0   0   0   0   0   0   0"
      ]
     },
     "execution_count": 15,
     "metadata": {},
     "output_type": "execute_result"
    }
   ],
   "source": [
    "matrix"
   ]
  },
  {
   "cell_type": "code",
   "execution_count": 17,
   "id": "a54ec4d0-307c-4695-b2fe-e0d6efdda647",
   "metadata": {},
   "outputs": [],
   "source": [
    "matrix.to_csv('chromosewise_rejectionsp.csv')"
   ]
  },
  {
   "cell_type": "markdown",
   "id": "35921d1a-5e73-471a-aa22-84cf70f04501",
   "metadata": {},
   "source": [
    "### Upset Plot of rejections combinied all chromosomes"
   ]
  },
  {
   "cell_type": "code",
   "execution_count": 21,
   "id": "2fb0fc53-dcd9-4e5d-a65e-3468f5707131",
   "metadata": {},
   "outputs": [],
   "source": [
    "def rejected(p_val,level):\n",
    "    oo = np.argsort(p_val);\n",
    "    ss = np.sort(p_val);\n",
    "    stat = np.divide(np.cumsum(ss),np.arange(1,np.size(ss)+1,1));\n",
    "    collection = np.where(stat <= level);\n",
    "    return(ss[collection]);"
   ]
  },
  {
   "cell_type": "code",
   "execution_count": 23,
   "id": "0909936d-6799-4a8a-be23-5564c03be65a",
   "metadata": {},
   "outputs": [],
   "source": [
    "pi_est = max(est_sun_cai_r(FloatVector(zall),0.,1.)+0.);"
   ]
  },
  {
   "cell_type": "code",
   "execution_count": 25,
   "id": "58fbacb1-3f5a-4c6b-a949-2c177bc271eb",
   "metadata": {},
   "outputs": [],
   "source": [
    "rejT0 = np.where(lcfdr0all<=rejected(lcfdr0all,alpha)[-1])[0]\n",
    "rejT1 = np.where(lcfdr1all<=rejected(lcfdr1all,alpha)[-1])[0]\n",
    "rejT2 = np.where(lcfdr2all<=rejected(lcfdr2all,alpha)[-1])[0]\n",
    "rejT3 = np.where(lcfdr3all<=rejected(lcfdr3all,alpha)[-1])[0]\n",
    "rejsc = np.where(lcfdrscall<=rejected(lcfdrscall,alpha)[-1])[0]\n",
    "rejbh = np.where(statsmodels.stats.multitest.multipletests(2*(1-norm.cdf(abs(zall))), \n",
    "                                                   alpha=(alpha/(1-0.)), method='fdr_bh', \n",
    "                                                         is_sorted=False, returnsorted=False)[0]==True)[0]\n",
    "rejabh = np.where(statsmodels.stats.multitest.multipletests(2*(1-norm.cdf(abs(zall))), \n",
    "                                                   alpha=(alpha/(1-pi_est)), method='fdr_bh', \n",
    "                                                         is_sorted=False, returnsorted=False)[0]==True)[0]"
   ]
  },
  {
   "cell_type": "code",
   "execution_count": 33,
   "id": "4401b5e1-3b46-40fb-a359-1d3b88b04808",
   "metadata": {},
   "outputs": [
    {
     "data": {
      "image/png": "[encoded data removed]",
      "text/plain": [
       "<Figure size 755.556x577.778 with 4 Axes>"
      ]
     },
     "metadata": {},
     "output_type": "display_data"
    }
   ],
   "source": [
    "import upsetplot\n",
    "import matplotlib.pyplot as plt\n",
    "from upsetplot import from_contents\n",
    "import warnings\n",
    "\n",
    "warnings.filterwarnings(\"ignore\")\n",
    "\n",
    "animals = from_contents(\n",
    "    {\"$\\hat{T}_0$\": rejT0, \"$\\hat{T}_1$\": rejT1, \"$\\hat{T}_2$\": rejT2, \"$\\hat{T}_3$\": rejT3, \"$Sun&Cai$\": rejsc, \"ABH\": rejabh, \"BH\":rejbh}\n",
    ")\n",
    "from upsetplot import UpSet\n",
    "\n",
    "ax_dict = UpSet(animals, subset_size=\"count\",min_subset_size=15,show_counts=True).plot()\n",
    "plt.savefig('upsetplot_rejectionsp.png', dpi=300)"
   ]
  },
  {
   "cell_type": "code",
   "execution_count": null,
   "id": "c8409e50-f8e8-4619-ac77-03958277bf91",
   "metadata": {},
   "outputs": [],
   "source": [
    "pyplot.savefig(\"/path/to/myplot.png\")"
   ]
  },
  {
   "cell_type": "markdown",
   "id": "f1a0defb-7467-400d-b6d4-47bbc99e4b9c",
   "metadata": {},
   "source": [
    "### Finding those 138 independently associated SNPs"
   ]
  },
  {
   "cell_type": "code",
   "execution_count": 77,
   "id": "482d37af-9500-4c54-8cb6-1b0273adb4e9",
   "metadata": {},
   "outputs": [],
   "source": [
    "ChWiseRej = np.array([]);\n",
    "for chno in np.arange(1,23):\n",
    "    Z = np.array(pd.read_csv(f'zlcfdrsp_chr{chno}.csv',header=None));\n",
    "    ChWiseRej = np.append(ChWiseRej,np.repeat(chno,Z.shape[0]));"
   ]
  },
  {
   "cell_type": "code",
   "execution_count": 81,
   "id": "bf8891b6-0f43-4d89-92af-f7452240a172",
   "metadata": {},
   "outputs": [
    {
     "data": {
      "text/plain": [
       "array([ 1.,  1.,  1., ..., 22., 22., 22.])"
      ]
     },
     "execution_count": 81,
     "metadata": {},
     "output_type": "execute_result"
    }
   ],
   "source": [
    "# np.size(np.where(ChWiseRej==22))\n",
    "ChWiseRej"
   ]
  },
  {
   "cell_type": "code",
   "execution_count": 112,
   "id": "ac9f061f-9c75-41fe-9c6d-af45f6b46564",
   "metadata": {},
   "outputs": [
    {
     "data": {
      "text/plain": [
       "array([ 2.,  8., 19.,  6.,  2., 12.,  6.,  2., 15.,  1., 19., 10., 17.,\n",
       "       10., 11.,  2., 10., 11., 20.,  8., 17., 14., 12.,  8., 22., 12.,\n",
       "       12., 17.,  5.,  3.,  6., 18., 11., 11., 11., 12.,  1., 15., 14.,\n",
       "        1., 13., 15., 21.,  5., 10., 19.,  9., 15.,  3.,  9., 13., 10.,\n",
       "        6.,  9.,  3.,  3., 12.,  9.,  8.,  6.,  5.,  7., 15.,  2., 12.,\n",
       "        5.,  7., 10.,  2.,  3., 18.,  2., 20., 15., 13., 16., 10.,  4.,\n",
       "        9.,  1.,  3.,  3.,  2.,  7., 20.,  2.,  3., 10., 21., 20., 17.,\n",
       "        1., 17.,  5.,  9.,  3.,  4.,  7.,  9., 21.,  6., 20.,  6.,  1.,\n",
       "       19.,  6., 17.,  8., 22.,  4.,  3., 22.,  1.,  1., 20., 12., 17.,\n",
       "       12.,  8.,  5.,  6., 22., 12.,  7.,  8.,  1.,  7., 19.,  2.,  2.,\n",
       "       18.,  2., 17.,  9.,  1., 16., 10., 13.])"
      ]
     },
     "execution_count": 112,
     "metadata": {},
     "output_type": "execute_result"
    }
   ],
   "source": [
    "# Union of all sets\n",
    "all_elements = set(rejbh) | set(rejabh) | set(rejsc) | set(rejT0) | set(rejT1) | set(rejT2) | set(rejT3) \n",
    "\n",
    "# Intersection of A with the complements of the other sets\n",
    "onlyT3 = all_elements - set(rejbh) & all_elements - set(rejabh) & all_elements - set(rejsc) & all_elements - set(rejT0) & all_elements - set(rejT1) & all_elements - set(rejT2) & set(rejT3)\n",
    "onlyT3 = np.array(list(onlyT3))\n",
    "ChWiseRej[onlyT3]"
   ]
  },
  {
   "cell_type": "code",
   "execution_count": 114,
   "id": "2ee508da-ac3c-47db-ab8a-ca9825831b11",
   "metadata": {},
   "outputs": [],
   "source": [
    "Chridrej = ChWiseRej[rejT3]\n",
    "Chridrejno = np.array([]);\n",
    "for chno in range(1,23):\n",
    "    Chridrejno = np.append(Chridrejno,np.size(np.where(Chridrej == chno)));"
   ]
  },
  {
   "cell_type": "code",
   "execution_count": 116,
   "id": "aad2a77c-12e2-4505-a95d-d1cbe2751028",
   "metadata": {},
   "outputs": [
    {
     "data": {
      "text/plain": [
       "array([76., 54., 51., 39., 57., 59., 41., 37., 45., 32., 34., 56., 22.,\n",
       "       21., 45., 15., 37., 28., 45., 33., 12.,  6.])"
      ]
     },
     "execution_count": 116,
     "metadata": {},
     "output_type": "execute_result"
    }
   ],
   "source": [
    "Chridrejno"
   ]
  },
  {
   "cell_type": "code",
   "execution_count": 118,
   "id": "7dec47ce-9ddf-43c7-9eba-9c6787e58fba",
   "metadata": {},
   "outputs": [],
   "source": [
    "Chridreju = ChWiseRej[onlyT3]\n",
    "Chridrejuno = np.array([]);\n",
    "for chno in range(1,23):\n",
    "    Chridrejuno = np.append(Chridrejuno,np.size(np.where(Chridreju == chno)));"
   ]
  },
  {
   "cell_type": "code",
   "execution_count": 120,
   "id": "e37d4b3c-3eca-4ed2-bb90-258c17fa15e5",
   "metadata": {},
   "outputs": [
    {
     "data": {
      "text/plain": [
       "array([10., 12., 10.,  3.,  6.,  9.,  6.,  7.,  8.,  9.,  5., 10.,  4.,\n",
       "        2.,  6.,  2.,  8.,  3.,  5.,  6.,  3.,  4.])"
      ]
     },
     "execution_count": 120,
     "metadata": {},
     "output_type": "execute_result"
    }
   ],
   "source": [
    "Chridrejuno"
   ]
  },
  {
   "cell_type": "code",
   "execution_count": 122,
   "id": "97c62213-146f-4155-8e29-c9d19a506e00",
   "metadata": {},
   "outputs": [],
   "source": [
    "from scipy.io import savemat, loadmat"
   ]
  },
  {
   "cell_type": "code",
   "execution_count": 136,
   "id": "2fb1e856-4195-4cd7-b9df-ba2b37da9a00",
   "metadata": {},
   "outputs": [],
   "source": [
    "rsidsall = np.array([]);\n",
    "for  chno in range(1,23):\n",
    "    loaded = np.load(f'rsidlistp_chr{chno}.npz')\n",
    "    Rsid = [loaded[f'arr_{i}'] for i in range(len(loaded.files))]  \n",
    "    for rsid in Rsid:\n",
    "        rsidsall = np.append(rsidsall,rsid);"
   ]
  },
  {
   "cell_type": "code",
   "execution_count": 150,
   "id": "4b5e49c4-69bb-4aba-98cd-4713a3995b7b",
   "metadata": {},
   "outputs": [],
   "source": [
    "onlyT3rsid = rsidsall[onlyT3];"
   ]
  },
  {
   "cell_type": "code",
   "execution_count": 152,
   "id": "86928ada-957b-4ca0-b6bc-fb57a4a5193e",
   "metadata": {},
   "outputs": [],
   "source": [
    "np.save('onlyT3rsid.npy', onlyT3rsid)"
   ]
  },
  {
   "cell_type": "code",
   "execution_count": 154,
   "id": "6f780a68-35be-4e39-b64b-b020cef5df36",
   "metadata": {},
   "outputs": [],
   "source": [
    "load = np.load('onlyT3rsid.npy')"
   ]
  },
  {
   "cell_type": "code",
   "execution_count": 156,
   "id": "bd5361df-4e91-4188-aa7d-99fd4f2d986d",
   "metadata": {},
   "outputs": [
    {
     "data": {
      "text/plain": [
       "array(['rs13030608', 'rs3802266', 'rs1799817', 'rs55903909', 'rs6714546',\n",
       "       'rs57038108', 'rs220003', 'rs62188361', 'rs1126823', 'rs12073069',\n",
       "       'rs17254556', 'rs1171619', 'rs28760438', 'rs12569940',\n",
       "       'rs180906734', 'rs75145077', 'rs7094463', 'rs12793619',\n",
       "       'rs8123195', 'rs10101716', 'rs1431318', 'rs10139660', 'rs35277588',\n",
       "       'rs10095184', 'rs11705239', 'rs12314162', 'rs12426238',\n",
       "       'rs11654879', 'rs75073573', 'rs12494525', 'rs761390', 'rs7232395',\n",
       "       'rs35903991', 'rs74050111', 'rs79155300', 'rs7978874',\n",
       "       'rs11548323', 'rs72766300', 'rs17765575', 'rs12739678',\n",
       "       'rs2209871', 'rs7170035', 'rs372563', 'rs76832821', 'rs4751022',\n",
       "       'rs72999181', 'rs12684650', 'rs17117784', 'rs6792408',\n",
       "       'rs16936469', 'rs9545018', 'rs3802569', 'rs610913', 'rs1858838',\n",
       "       'rs7652177', 'rs9857967', 'rs12424086', 'rs966097', 'rs1427254',\n",
       "       'rs11970772', 'rs16821', 'rs10225292', 'rs1841573', 'rs4666974',\n",
       "       'rs55747855', 'rs1368380', 'rs6461556', 'rs73336294', 'rs35946826',\n",
       "       'rs62244392', 'rs34143130', 'rs13394184', 'rs769122', 'rs10852125',\n",
       "       'rs12584280', 'rs12918497', 'rs73586720', 'rs6817468', 'rs9298850',\n",
       "       'rs4486425', 'rs2322695', 'rs482877', 'rs114921331', 'rs1354264',\n",
       "       'rs4810087', 'rs847153', 'rs4012171', 'rs7923221', 'rs57066619',\n",
       "       'rs1233751', 'rs9893032', 'rs11583393', 'rs16966701', 'rs4049387',\n",
       "       'rs7020021', 'rs80009321', 'rs6829875', 'rs61753124', 'rs79667299',\n",
       "       'rs2839446', 'rs1166180', 'rs16982720', 'rs620590', 'rs16856160',\n",
       "       'rs8108234', 'rs10943676', 'rs12602364', 'rs145988500',\n",
       "       'rs11090631', 'rs13151869', 'rs77313316', 'rs11704051',\n",
       "       'rs10889020', 'rs7535533', 'rs6648', 'rs7955622', 'rs56947983',\n",
       "       'rs1587362', 'rs6470764', 'rs74838555', 'rs11968833', 'rs738514',\n",
       "       'rs36078145', 'rs2917746', 'rs4075155', 'rs72652690', 'rs954758',\n",
       "       'rs12986130', 'rs13000318', 'rs6704763', 'rs17068657',\n",
       "       'rs62194214', 'rs11652187', 'rs11243929', 'rs61766110',\n",
       "       'rs1424022', 'rs10885361', 'rs714669'], dtype='<U32')"
      ]
     },
     "execution_count": 156,
     "metadata": {},
     "output_type": "execute_result"
    }
   ],
   "source": [
    "load ### 138 independently associated SNPs by T3 statistics"
   ]
  }
 ],
 "metadata": {
  "kernelspec": {
   "display_name": "Python 3 (ipykernel)",
   "language": "python",
   "name": "python3"
  },
  "language_info": {
   "codemirror_mode": {
    "name": "ipython",
    "version": 3
   },
   "file_extension": ".py",
   "mimetype": "text/x-python",
   "name": "python",
   "nbconvert_exporter": "python",
   "pygments_lexer": "ipython3",
   "version": "3.12.4"
  }
 },
 "nbformat": 4,
 "nbformat_minor": 5
}
